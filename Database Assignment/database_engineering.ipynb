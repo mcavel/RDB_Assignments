{
 "cells": [
  {
   "cell_type": "code",
   "execution_count": 1,
   "metadata": {},
   "outputs": [],
   "source": [
    "# Dependencies\n",
    "import pandas as pd\n",
    "import os\n",
    "import csv\n",
    "from sqlalchemy import create_engine\n",
    "from sqlalchemy.orm import Session\n",
    "from sqlalchemy.ext.declarative import declarative_base\n",
    "from sqlalchemy import Column, Integer, String, Float, Date\n",
    "from config import gle_sql_server_info\n",
    "google_sql_server= gle_sql_server_info"
   ]
  },
  {
   "cell_type": "code",
   "execution_count": 2,
   "metadata": {
    "collapsed": true
   },
   "outputs": [],
   "source": [
    "# Create station and measurement classes\n",
    "# ----------------------------------\n",
    "Base = declarative_base()\n",
    "\n",
    "class stationclass(Base):\n",
    "    __tablename__ = 'Station'\n",
    "    stations = Column(String(255), primary_key=True)\n",
    "    name = Column(String(255))\n",
    "    latitude = Column(Float)\n",
    "    longitude = Column(Float)\n",
    "    elevation= Column(Float)\n",
    "\n",
    "\n",
    "class measurementclass(Base):\n",
    "    __tablename__ = 'Measurement'\n",
    "    stations = Column(String(255), primary_key=True)\n",
    "    date = Column(Date)\n",
    "    prcp = Column(Float)\n",
    "    tobs = Column(Integer)\n",
    "\n"
   ]
  },
  {
   "cell_type": "code",
   "execution_count": 3,
   "metadata": {
    "collapsed": true
   },
   "outputs": [],
   "source": [
    "# Create Database Connection\n",
    "# ----------------------------------\n",
    "engine = create_engine(google_sql_server)\n",
    "\n",
    "# conn = engine.connect()\n"
   ]
  },
  {
   "cell_type": "code",
   "execution_count": 4,
   "metadata": {
    "collapsed": true
   },
   "outputs": [],
   "source": [
    "# Create a \"Metadata\" Layer That Abstracts SQL Database\n",
    "# ----------------------------------\n",
    "Base.metadata.create_all(engine)\n",
    "file_clean_stations = 'clean_hawaii_stations.csv'\n",
    "file_clean_measurements = 'clean_hawaii_measurements.csv'\n",
    "df_stations = pd.read_csv(file_clean_stations)\n",
    "df_measurements = pd.read_csv(file_clean_measurements)\n",
    "\n",
    "#create tables in SQL; transfer csv data to SQL\n",
    "df_stations.to_sql(con=engine, index_label='station', name=stationclass.__tablename__, if_exists='replace', index='False')\n",
    "df_measurements.to_sql(con=engine, index_label='station', name=measurementclass.__tablename__, if_exists='replace', index='False')"
   ]
  },
  {
   "cell_type": "markdown",
   "metadata": {},
   "source": [
    "<h3>Confirmation - Data transfered to Google Cloud SQL Server</h3>\n",
    "\n",
    "<img src=\"SQL_Datatransfer.png\" width=50%, height=50%>"
   ]
  },
  {
   "cell_type": "code",
   "execution_count": null,
   "metadata": {
    "collapsed": true
   },
   "outputs": [],
   "source": []
  }
 ],
 "metadata": {
  "kernelspec": {
   "display_name": "Python [conda env:PythonData]",
   "language": "python",
   "name": "conda-env-PythonData-py"
  },
  "language_info": {
   "codemirror_mode": {
    "name": "ipython",
    "version": 3
   },
   "file_extension": ".py",
   "mimetype": "text/x-python",
   "name": "python",
   "nbconvert_exporter": "python",
   "pygments_lexer": "ipython3",
   "version": "3.6.1"
  }
 },
 "nbformat": 4,
 "nbformat_minor": 2
}
